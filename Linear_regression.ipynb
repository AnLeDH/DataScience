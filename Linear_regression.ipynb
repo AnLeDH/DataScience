{
 "cells": [
  {
   "cell_type": "code",
   "execution_count": 62,
   "id": "be9497a8",
   "metadata": {},
   "outputs": [],
   "source": [
    "import pandas as pd\n",
    "import numpy as np\n",
    "import matplotlib.pyplot as plt\n",
    "import prepare_data\n",
    "import warnings\n",
    "warnings.filterwarnings(\"ignore\")\n",
    "\n",
    "# get yearly and monthly data\n",
    "df_av_yearly, df_av_monthly = prepare_data.prepare_data()\n",
    "\n",
    "# individual regression\n",
    "type = \"temp_max\"\n",
    "month = 8\n",
    "year = 2050 - 1984\n",
    "\n",
    "# prepare x and y\n",
    "y = df_av_monthly[type][df_av_monthly[\"month\"] == month].values\n",
    "x = pd.DataFrame(np.arange(0,len(y))).values\n",
    "\n"
   ]
  },
  {
   "cell_type": "code",
   "execution_count": 18,
   "id": "05ea7907",
   "metadata": {},
   "outputs": [
    {
     "name": "stdout",
     "output_type": "stream",
     "text": [
      "Regression Line:  y = 24.645356536502543 + 1.399e-17x\n",
      "\"Goodness of Fit\":  4.655463631708205e-33\n"
     ]
    },
    {
     "data": {
      "image/png": "[encoded data removed]",
      "text/plain": [
       "<Figure size 432x288 with 1 Axes>"
      ]
     },
     "metadata": {
      "needs_background": "light"
     },
     "output_type": "display_data"
    },
    {
     "name": "stdout",
     "output_type": "stream",
     "text": [
      "In 2050 it will have (on average): 24.645356536502543 degrees celcius\n"
     ]
    }
   ],
   "source": [
    "\"\"\"linear regression from scratch\"\"\"\n",
    "\n",
    "def linear_regression(x, y): \n",
    "    # get number of observations in dataset\n",
    "    N = len(x)\n",
    "    \n",
    "    # calculate means\n",
    "    x_mean = x.mean()\n",
    "    y_mean = y.mean()\n",
    "    \n",
    "    # calculate theta1: calculate numerator / denominator\n",
    "    T1_num = ((x - x_mean) * (y - y_mean)).sum()\n",
    "    T1_den = ((x - x_mean)**2).sum()\n",
    "    T1 = T1_num / T1_den\n",
    "    \n",
    "    # calcualte theta0\n",
    "    T0 = y_mean - (T1*x_mean)\n",
    "    # regression line rounded to 20 decimal places    \n",
    "    reg_line = 'y = {} + {}x'.format(T0, round(T1, 20))\n",
    "    \n",
    "    return (T0, T1, reg_line)\n",
    "\n",
    "T0, T1, reg_line = linear_regression(x,y)\n",
    "\n",
    "# print function\n",
    "print('Regression Line: ', reg_line)\n",
    "\n",
    "# calculating how well the line fits: \n",
    "# correlation coefficient R and coefficient of determination R^2\n",
    "R2 = np.sum((x-x.mean())*(y-y.mean()))/(np.sqrt(np.sum((x-x.mean())**2))*(np.sqrt(np.sum((y-y.mean())**2))))\n",
    "print('\"Goodness of Fit\": ', R2**2)\n",
    "\n",
    "# SIMPLE PLOT\n",
    "plt.figure()\n",
    "plt.scatter(x,y)\n",
    "plt.plot(x, T0 + T1*x,color = 'red')\n",
    "plt.title('Linear Regression from scratch')\n",
    "plt.xlabel(f'maximal Temperature in month {month} between 1984 and 2021')\n",
    "plt.ylabel(f'{type} in degrees celcius')\n",
    "plt.show()\n",
    "\n",
    "# make predictions\n",
    "def predict(new_x, T0=T0, T1=T1):\n",
    "    y = T0 + T1 * new_x\n",
    "    return y\n",
    "\n",
    "print(f\"In {year+1984} it will have (on average): {predict(year)} degrees celcius\")\n",
    "print(f\"That is a temperature rise of {(predict(year)-y[0])} degrees celcius\")\n"
   ]
  },
  {
   "cell_type": "code",
   "execution_count": 20,
   "id": "c39f2d2b",
   "metadata": {},
   "outputs": [
    {
     "name": "stdout",
     "output_type": "stream",
     "text": [
      "y = 24.0109873318532 + 0.03429022727834274x\n",
      "score: 0.027949600361738658\n"
     ]
    },
    {
     "data": {
      "image/png": "[encoded data removed]",
      "text/plain": [
       "<Figure size 432x288 with 1 Axes>"
      ]
     },
     "metadata": {
      "needs_background": "light"
     },
     "output_type": "display_data"
    },
    {
     "name": "stdout",
     "output_type": "stream",
     "text": [
      "In 2050 it will have (on average): 26.27414233222382 degrees celcius\n"
     ]
    }
   ],
   "source": [
    "\"\"\"linear regression using sklearn\"\"\"\n",
    "\n",
    "from sklearn.linear_model import LinearRegression\n",
    "\n",
    "lin = LinearRegression()\n",
    "fit = lin.fit(x, y)\n",
    "score = lin.score(x,y)\n",
    "reg_line = 'y = {} + {}x'.format(fit.intercept_, fit.coef_[0])\n",
    "\n",
    "print(reg_line)\n",
    "print(\"score:\", score)\n",
    "\n",
    "# Visualising the Linear Regression results\n",
    "plt.scatter(x, y, color = 'blue')\n",
    "plt.plot(x, lin.predict(x), color = 'red')\n",
    "plt.title('Linear Regression using sklearn')\n",
    "plt.xlabel('maximal Temperature in August between 1984 and 2021')\n",
    "plt.ylabel('maximal Temperature in degrees celcius')\n",
    "plt.show()\n",
    "\n",
    "# make predictions\n",
    "def predict(new_x, T0=fit.intercept_, T1=fit.coef_[0]):\n",
    "    y = T0 + T1 * new_x\n",
    "    return y\n",
    "\n",
    "print(f\"In {year+1984} it will have (on average): {predict(year)} degrees celcius\")\n",
    "print(f\"That is a temperature rise of {(predict(year)-y[0])} degrees celcius\")\n"
   ]
  }
 ],
 "metadata": {
  "kernelspec": {
   "display_name": "Python 3 (ipykernel)",
   "language": "python",
   "name": "python3"
  },
  "language_info": {
   "codemirror_mode": {
    "name": "ipython",
    "version": 3
   },
   "file_extension": ".py",
   "mimetype": "text/x-python",
   "name": "python",
   "nbconvert_exporter": "python",
   "pygments_lexer": "ipython3",
   "version": "3.9.12"
  }
 },
 "nbformat": 4,
 "nbformat_minor": 5
}
